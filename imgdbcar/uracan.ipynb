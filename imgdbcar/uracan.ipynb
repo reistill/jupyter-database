{
 "cells": [
  {
   "cell_type": "code",
   "execution_count": 1,
   "id": "e718b304-fcfb-425c-831a-a5765a89151c",
   "metadata": {},
   "outputs": [],
   "source": [
    "#importando o banco de dados, io(imput e output) e PIL\n",
    "import sqlite3\n",
    "import io\n",
    "from PIL import Image"
   ]
  },
  {
   "cell_type": "code",
   "execution_count": 3,
   "id": "bcb5ce71-8f2e-4d6b-b3a7-321c428a3d28",
   "metadata": {},
   "outputs": [],
   "source": [
    "#conecta com o banco de dados, se não existir ele cria\n",
    "conexao = sqlite3.connect('uracan.db')\n",
    "cursor = conexao.cursor()"
   ]
  },
  {
   "cell_type": "code",
   "execution_count": 5,
   "id": "bb565735-5440-4047-96bb-d1ddbe4b0073",
   "metadata": {},
   "outputs": [
    {
     "data": {
      "text/plain": [
       "<sqlite3.Cursor at 0x298507ebbc0>"
      ]
     },
     "execution_count": 5,
     "metadata": {},
     "output_type": "execute_result"
    }
   ],
   "source": [
    "#cria a tabela de carros se não existir\n",
    "criar_tabela = 'Create table IF Not Exists Carro (id_carro Integer Primary Key Autoincrement, modelo Varchar(50) Not Null, preco Float, foto Blob)'\n",
    "cursor.execute(criar_tabela)"
   ]
  },
  {
   "cell_type": "code",
   "execution_count": 7,
   "id": "4ef181f6-c9fe-4f61-861b-d7d82bd49e8d",
   "metadata": {},
   "outputs": [],
   "source": [
    "#função para ler a imagem e retornar o conteúdo da foto como binário\n",
    "def ler_imagem(caminho_foto):\n",
    "    with open(caminho_foto, 'rb') as file:\n",
    "        return file.read()"
   ]
  },
  {
   "cell_type": "code",
   "execution_count": 34,
   "id": "23a1762d-1505-4b0e-9922-75a1a237364a",
   "metadata": {},
   "outputs": [],
   "source": [
    "#função para ler o arquivo .txt e inserir dados no banco\n",
    "def ler_e_inserir_dados(caminho_arquivo):\n",
    "    with open(caminho_arquivo, 'r', encoding='utf-8') as file:\n",
    "        for linha in file:\n",
    "            #remove espaços em branco ou caracteres de nova linha extras no início e no final da linha\n",
    "            linha = linha.strip()\n",
    "            #ignorar linhas vazias\n",
    "            if linha: #divide a linha em três partes (modelo, preco, caminho_foto), usando o caractere ; como separador \n",
    "                modelo, preco, caminho_foto = linha.split(';')\n",
    "                \n",
    "                # Carregar a imagem como BLOB\n",
    "                foto_blob = ler_imagem(caminho_foto)\n",
    "                \n",
    "                # Inserir dados no banco, incluindo a foto como BLOB\n",
    "                cursor.execute('INSERT INTO Carro (modelo, preco, foto) VALUES (?, ?, ?) ', (modelo, preco, foto_blob))\n",
    "        \n",
    "        conexao.commit()\n",
    "        print(\"Dados e fotos inseridos com sucesso!\")"
   ]
  },
  {
   "cell_type": "code",
   "execution_count": 36,
   "id": "4ef6acc8-b8bf-4035-990b-cc2bb94a4143",
   "metadata": {},
   "outputs": [],
   "source": [
    "#acessa o banco de dados, recupera os registros da tabela Carro e exibe os dados na tela\n",
    "def listar_dados():\n",
    "    cursor.execute(\"SELECT modelo, preco, foto FROM Carro\")\n",
    "    registros = cursor.fetchall()\n",
    "    #percorre o cursor fetchall, atribui os valores de cada coluna do registros às variáveis abaixo\n",
    "    for registro in registros:\n",
    "        modelo, preco, foto_blob = registro\n",
    "        print(f\"Modelo: {modelo}, preco: {preco}\")\n",
    "        \n",
    "        #verifica se o campo foto não está vazio(none) e exibe a foto\n",
    "        if foto_blob:\n",
    "            exibir_foto(foto_blob)"
   ]
  },
  {
   "cell_type": "code",
   "execution_count": 38,
   "id": "73cdd9e8-c790-4abd-8989-a0ad0e31bfe1",
   "metadata": {},
   "outputs": [],
   "source": [
    "#função para exibir a imagem\n",
    "def exibir_foto(in_blob):\n",
    "    imagem = Image.open(io.BytesIO(in_blob))\n",
    "    imagem.show() # Exibe a imagem"
   ]
  },
  {
   "cell_type": "code",
   "execution_count": 42,
   "id": "aaa8fe1f-bd32-4e1e-834c-8ef2ccbc7a8f",
   "metadata": {},
   "outputs": [
    {
     "name": "stdout",
     "output_type": "stream",
     "text": [
      "Dados e fotos inseridos com sucesso!\n",
      "Modelo: Urus_Mansory, preco: 1000000.0\n",
      "Modelo: Gol_G3, preco: 20000.0\n",
      "Modelo: Macan, preco: 300000.45\n",
      "Modelo: Tiger_Triumph, preco: 72001.0\n",
      "Modelo: Urus_Mansory, preco: 1000000.0\n",
      "Modelo: Gol_G3, preco: 20000.0\n",
      "Modelo: Macan, preco: 300000.45\n",
      "Modelo: Tiger_Triumph, preco: 72001.0\n",
      "Modelo: Urus_Mansory, preco: 1000000.0\n",
      "Modelo: Gol_G3, preco: 20000.0\n",
      "Modelo: Macan, preco: 300000.45\n",
      "Modelo: Tiger_Triumph, preco: 72001.0\n",
      "Modelo: Urus_Mansory, preco: 1000000.0\n",
      "Modelo: Gol_G3, preco: 20000.0\n",
      "Modelo: Macan, preco: 300000.45\n",
      "Modelo: Tiger_Triumph, preco: 72001.0\n",
      "Modelo: Urus_Mansory, preco: 1000000.0\n",
      "Modelo: Gol_G3, preco: 20000.0\n",
      "Modelo: Macan, preco: 300000.45\n",
      "Modelo: Tiger_Triumph, preco: 72001.0\n"
     ]
    }
   ],
   "source": [
    "#TESTE\n",
    "#caminho do arquivo .txt\n",
    "caminho_arquivo = 'C:/Users/Suporte/joel/dados.txt'\n",
    "ler_e_inserir_dados(caminho_arquivo)\n",
    "\n",
    "#listar\n",
    "listar_dados()\n",
    "# Fechar a conexão\n",
    "conexao.close()"
   ]
  },
  {
   "cell_type": "code",
   "execution_count": null,
   "id": "0b02d3b9-4b1a-4406-a48d-4acb6f7083d7",
   "metadata": {},
   "outputs": [],
   "source": [
    "cursor.execute('drop table')"
   ]
  },
  {
   "cell_type": "code",
   "execution_count": 49,
   "id": "f18e0315-4149-44ab-850d-6f7950574485",
   "metadata": {},
   "outputs": [],
   "source": [
    "#jeito melhor de inserir vários itens\n",
    "#comando_inserir = 'insert into Carro values (?, ?, ?)'"
   ]
  },
  {
   "cell_type": "code",
   "execution_count": 51,
   "id": "49fea6bc-7e69-4749-99e0-d9fdda3e4488",
   "metadata": {},
   "outputs": [],
   "source": [
    "#registros = [('porshe carrera', 150000.5, ),\n",
    "#             ('chrysler', 100000, ),\n",
    "#            ('gol g3', 20000, )]"
   ]
  },
  {
   "cell_type": "code",
   "execution_count": 53,
   "id": "1466b667-8240-4838-8baf-ccdd11ead36b",
   "metadata": {},
   "outputs": [],
   "source": [
    "#jeito melhor de inserir itens pt.2\n",
    "#for registro in registros:\n",
    "#    cursor.execute(comando_inserir, registro)\n",
    "#conexao.commit()"
   ]
  },
  {
   "cell_type": "code",
   "execution_count": 55,
   "id": "602cf9df-1fcf-4375-9ff7-42cbb15f20e0",
   "metadata": {},
   "outputs": [],
   "source": [
    "#listar = 'select * from Carro'\n",
    "#cursor.execute(listar)\n",
    "#dados = cursor.fetchall()"
   ]
  },
  {
   "cell_type": "code",
   "execution_count": 59,
   "id": "7f5e12e0-4f68-44cc-8230-27f8b727c0b0",
   "metadata": {},
   "outputs": [
    {
     "name": "stdout",
     "output_type": "stream",
     "text": [
      "ID: 1, Modelo: lamborghini urus, Preço: 1000000.00\n",
      "ID: 2, Modelo: porshe carrera, Preço: 150000.50\n",
      "ID: 3, Modelo: chrysler, Preço: 100000.00\n",
      "ID: 4, Modelo: gol g3, Preço: 20000.00\n"
     ]
    }
   ],
   "source": [
    "# %d = decimal e %s = string\n",
    "#for linha in dados:\n",
    "#    print('ID: %d, Modelo: %s, Preço: %.2f, Foto: %'% linha)"
   ]
  },
  {
   "cell_type": "code",
   "execution_count": 111,
   "id": "a6aeb5e2-e351-4e20-8b22-9087ff8741d0",
   "metadata": {},
   "outputs": [],
   "source": [
    "#def listar_carros():\n",
    "#    cursor.execute('select * from Carro')\n",
    "#    for linha in cursor.fetchall():\n",
    "#        print(f'{linha}')"
   ]
  },
  {
   "cell_type": "code",
   "execution_count": 113,
   "id": "120c6d9d-12e2-41b8-a3ed-1ceeaccd5159",
   "metadata": {},
   "outputs": [
    {
     "name": "stdout",
     "output_type": "stream",
     "text": [
      "(1, 'lamborghini urus', 1000000.0)\n",
      "(2, 'porshe carrera', 150000.5)\n",
      "(3, 'chrysler', 100000.0)\n",
      "(4, 'gol g3', 20000.0)\n"
     ]
    }
   ],
   "source": [
    "#listar_carros()"
   ]
  },
  {
   "cell_type": "code",
   "execution_count": 115,
   "id": "cf02434c-21a7-421f-bf56-d27b55246de0",
   "metadata": {},
   "outputs": [],
   "source": [
    "Commitar e fechar tudo\n",
    "conexao.commit()\n",
    "cursor.close()\n",
    "conexao.close()"
   ]
  }
 ],
 "metadata": {
  "kernelspec": {
   "display_name": "Python 3 (ipykernel)",
   "language": "python",
   "name": "python3"
  },
  "language_info": {
   "codemirror_mode": {
    "name": "ipython",
    "version": 3
   },
   "file_extension": ".py",
   "mimetype": "text/x-python",
   "name": "python",
   "nbconvert_exporter": "python",
   "pygments_lexer": "ipython3",
   "version": "3.12.7"
  }
 },
 "nbformat": 4,
 "nbformat_minor": 5
}
